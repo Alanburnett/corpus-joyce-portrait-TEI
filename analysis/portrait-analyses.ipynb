{
 "cells": [
  {
   "cell_type": "code",
   "execution_count": 163,
   "metadata": {
    "collapsed": true
   },
   "outputs": [],
   "source": [
    "import nltk\n",
    "from lxml import etree\n",
    "import pandas as pd\n",
    "% matplotlib inline\n",
    "import matplotlib.pyplot as plt\n",
    "plt.rcParams[\"figure.figsize\"] = [12, 6]"
   ]
  },
  {
   "cell_type": "code",
   "execution_count": 181,
   "metadata": {
    "collapsed": false
   },
   "outputs": [],
   "source": [
    "class Text(): \n",
    "    def __init__(self, filename): \n",
    "        self.tree = etree.parse(filename)\n",
    "        self.textEnd = sum(1 for line in open(filename))\n",
    "        self.textBegin = self.tree.find('.//text').sourceline\n",
    "        \n",
    "    def getLang(self, lang): \n",
    "        # map XML built-in namespace so we can search for xml:lang\n",
    "        nsmap = {\"xml\": \"http://www.w3.org/XML/1998/namespace\"}\n",
    "        xpath = './/seg[@xml:lang=\"%s\"]' % lang\n",
    "        matches = self.tree.findall(xpath, namespaces=nsmap) \n",
    "        return [match.sourceline for match in matches]\n",
    "    \n",
    "    def showLang(self, lang): \n",
    "        lines = self.getLang(lang)\n",
    "        pd.Series(self.makeBuckets(lines)).plot(kind=\"bar\")\n",
    "    \n",
    "    def showLangs(self, langs): \n",
    "        langDict = {}\n",
    "        for lang in langs: \n",
    "            lines = self.getLang(lang)\n",
    "            results = self.makeBuckets(lines)\n",
    "            #print('results for lang: %s: %s' % (lang, results))\n",
    "            langDict[lang] = results\n",
    "        pd.DataFrame(langDict).plot()\n",
    "    \n",
    "    def getFeature(self, feature): \n",
    "        xpath = './/seg[@type=\"%s\"]' % feature\n",
    "        xpath2 = './/lg[@type=\"%s\"]' % feature\n",
    "        matches1 = self.tree.findall(xpath) \n",
    "        matches2 = self.tree.findall(xpath2) \n",
    "        matches = matches1 + matches2\n",
    "        return [match.sourceline for match in matches]\n",
    "    \n",
    "    def showFeatures(self, features):\n",
    "        featureDict = {}\n",
    "        for feature in features:\n",
    "            lines = self.getFeature(feature)\n",
    "            results = self.makeBuckets(lines)\n",
    "            featureDict[feature] = results\n",
    "        pd.DataFrame(featureDict).plot()\n",
    "        \n",
    "        \n",
    "    def makeBuckets(self, lines, numBuckets=20): \n",
    "        bucketSize = (self.textEnd - self.textBegin) / numBuckets\n",
    "        buckets = {}\n",
    "        for bucket in range(0, numBuckets): \n",
    "            lower = self.textBegin + (bucket * bucketSize)\n",
    "            upper = lower + bucketSize\n",
    "            #print(\"Looking for lines between %s and %s\" % (lower, upper))\n",
    "            buckets[bucket] = sum(1 for line in lines if line > lower and line < upper) \n",
    "        return buckets\n"
   ]
  },
  {
   "cell_type": "code",
   "execution_count": 184,
   "metadata": {
    "collapsed": false,
    "scrolled": true
   },
   "outputs": [
    {
     "data": {
      "image/png": "[encoded data removed]",
      "text/plain": [
       "<matplotlib.figure.Figure at 0x7f00101656a0>"
      ]
     },
     "metadata": {},
     "output_type": "display_data"
    }
   ],
   "source": [
    "t = Text('../portrait.xml')\n",
    "#langDict = t.showLangs(['la', 'fr', 'ita'])\n",
    "t.showFeatures(['song'])"
   ]
  },
  {
   "cell_type": "code",
   "execution_count": null,
   "metadata": {
    "collapsed": true
   },
   "outputs": [],
   "source": []
  }
 ],
 "metadata": {
  "kernelspec": {
   "display_name": "Python 3",
   "language": "python",
   "name": "python3"
  },
  "language_info": {
   "codemirror_mode": {
    "name": "ipython",
    "version": 3
   },
   "file_extension": ".py",
   "mimetype": "text/x-python",
   "name": "python",
   "nbconvert_exporter": "python",
   "pygments_lexer": "ipython3",
   "version": "3.5.2"
  }
 },
 "nbformat": 4,
 "nbformat_minor": 0
}
